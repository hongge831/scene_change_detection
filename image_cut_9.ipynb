{
 "cells": [
  {
   "cell_type": "code",
   "execution_count": 25,
   "metadata": {},
   "outputs": [
    {
     "name": "stdout",
     "output_type": "stream",
     "text": [
      "9\n"
     ]
    }
   ],
   "source": [
    "#import some necessary lib\n",
    "import os\n",
    "from PIL import Image\n",
    "import matplotlib.pyplot as plt\n",
    "%matplotlib inline\n",
    "#the src of the image\n",
    "img_src = 'D:/VOC_HY/image_test/'\n",
    "num_part = 3\n",
    "os.chdir(img_src)\n",
    "im1 = Image.open(img_src + 's62_000000.jpg')\n",
    "im2 = Image.open(img_src + 's63_000025.jpg')\n",
    "\n",
    "#compute the coordiante of the sub_image\n",
    "crop_dic= []#put the coordiantes in the list\n",
    "width = im1.size[0]/num_part\n",
    "height = im1.size[1]/num_part\n",
    "for i in range(num_part):\n",
    "    for j in range(num_part):\n",
    "        crop_dic.append((i*width,j*height,i*width+width,j*height+height))\n",
    "i=0\n",
    "print len(crop_dic)\n",
    "for t in crop_dic:\n",
    "    im_new = im1.crop(t)\n",
    "    im_new.save('./new_file/im1_'+str(i)+'.jpg')\n",
    "    i = i + 1\n",
    "i=0\n",
    "for t in crop_dic:\n",
    "    im_new = im2.crop(t)\n",
    "    im_new.save('./new_file/im2_'+str(i)+'.jpg')\n",
    "    i = i + 1\n"
   ]
  },
  {
   "cell_type": "code",
   "execution_count": 26,
   "metadata": {},
   "outputs": [
    {
     "name": "stdout",
     "output_type": "stream",
     "text": [
      "['im1_0.jpg', 'im2_0.jpg', 'im1_1.jpg', 'im2_1.jpg', 'im1_2.jpg', 'im2_2.jpg', 'im1_3.jpg', 'im2_3.jpg', 'im1_4.jpg', 'im2_4.jpg', 'im1_5.jpg', 'im2_5.jpg', 'im1_6.jpg', 'im2_6.jpg', 'im1_7.jpg', 'im2_7.jpg', 'im1_8.jpg', 'im2_8.jpg']\n"
     ]
    }
   ],
   "source": [
    "split_image_src = 'D:/VOC_HY/image_test/new_file'\n",
    "image_list = os.listdir(split_image_src)\n",
    "list_afterSort = []\n",
    "for i in range(9):\n",
    "    list_afterSort.append(image_list[i])\n",
    "    list_afterSort.append(image_list[i+9])\n",
    "print list_afterSort"
   ]
  },
  {
   "cell_type": "code",
   "execution_count": 45,
   "metadata": {},
   "outputs": [
    {
     "name": "stdout",
     "output_type": "stream",
     "text": [
      "D:/VOC_HY/image_test/s62_000012.jpg\n",
      "D:/VOC_HY/image_test/s63_000047.jpg\n",
      "(0, 1)    0.012575957585 False\n"
     ]
    }
   ],
   "source": [
    "# -*- coding: utf-8 -*-\n",
    "import caffe\n",
    "import numpy as np\n",
    "import pylab\n",
    "\n",
    "\n",
    "root='D:\\VOC_HY/cjDATA/new_data/'   #根目录\n",
    "deploy=root + 'squeezeNetFeatureExtract/deploy.prototxt'    #deploy文件\n",
    "caffe_model=root + 'squeezeNetFeatureExtract/squeezenet_v1.0.caffemodel'   #训练好的 caffemodel\n",
    "\n",
    "net = caffe.Net(deploy,caffe_model,caffe.TEST)   #加载model和network\n",
    "\n",
    "\n",
    "#图片预处理设置\n",
    "transformer = caffe.io.Transformer({'data': net.blobs['data'].data.shape})  #设定图片的shape格式(1,3,28,28)\n",
    "transformer.set_transpose('data', (2,0,1))    #改变维度的顺序，由原始图片(28,28,3)变为(3,28,28)\n",
    "#transformer.set_mean('data', np.load(mean_file).mean(1).mean(1))    #减去均值，前面训练模型时没有减均值，这儿就不用\n",
    "transformer.set_raw_scale('data', 1)    # 缩放到【0，255】之间\n",
    "transformer.set_channel_swap('data', (2,1,0))   #交换通道，将图片由RGB变为BGR\n",
    "\n",
    "img_src ='D:/VOC_HY/image_test/'\n",
    "new = np.zeros((1,1000))\n",
    "list_new = os.listdir('D:/VOC_HY/image_test')\n",
    "for img_file in list_new:\n",
    "    img = img_src + img_file\n",
    "    print img\n",
    "    im = caffe.io.load_image(img)  # 加载图片\n",
    "    im = im/255\n",
    "    net.blobs['data'].data[...] = transformer.preprocess('data', im)  # 执行上面设置的图片预处理操作，并将图片载入到blob中\n",
    "    out = net.forward()\n",
    "    feat = np.array(out['prob']).reshape((1, 1000))\n",
    "    new = np.vstack((new, feat))\n",
    "\n",
    "new = new[1:,:]\n",
    "totalNum = 1\n",
    "for i in range(totalNum):\n",
    "    x = 100* np.sqrt(np.sum(np.square(new[i] - new[i+1])))\n",
    "    print ((i),(i+1)),'  ',x,\n",
    "    if(x>0.01):\n",
    "        x=False\n",
    "    else:\n",
    "        x = True\n",
    "    print x"
   ]
  },
  {
   "cell_type": "code",
   "execution_count": 39,
   "metadata": {},
   "outputs": [
    {
     "name": "stdout",
     "output_type": "stream",
     "text": [
      "D:/VOC_HY/image_test/s63_000025.jpg\n",
      "D:/VOC_HY/image_test/s63_000047.jpg\n"
     ]
    },
    {
     "data": {
      "text/plain": [
       "1.5855456e-09"
      ]
     },
     "execution_count": 39,
     "metadata": {},
     "output_type": "execute_result"
    }
   ],
   "source": [
    "# -*- coding: utf-8 -*-\n",
    "import caffe\n",
    "import numpy as np\n",
    "import pylab\n",
    "\n",
    "\n",
    "root='D:/VOC_HY/cjDATA/new_data/'   #根目录\n",
    "deploy=root + 'squeezeNetFeatureExtract/deploy.prototxt'    #deploy文件\n",
    "caffe_model=root + 'squeezeNetFeatureExtract/squeezenet_v1.0.caffemodel'   #训练好的 caffemodel\n",
    "\n",
    "net = caffe.Net(deploy,caffe_model,caffe.TEST)   #加载model和network\n",
    "\n",
    "\n",
    "#图片预处理设置\n",
    "transformer = caffe.io.Transformer({'data': net.blobs['data'].data.shape})  #设定图片的shape格式(1,3,28,28)\n",
    "transformer.set_transpose('data', (2,0,1))    #改变维度的顺序，由原始图片(28,28,3)变为(3,28,28)\n",
    "#transformer.set_mean('data', np.load(mean_file).mean(1).mean(1))    #减去均值，前面训练模型时没有减均值，这儿就不用\n",
    "transformer.set_raw_scale('data', 1)    # 缩放到【0，255】之间\n",
    "transformer.set_channel_swap('data', (2,1,0))   #交换通道，将图片由RGB变为BGR\n",
    "\n",
    "img_src ='D:/VOC_HY/image_test/'\n",
    "new = np.zeros((1,1000))\n",
    "list_afterSort = os.listdir(img_src)\n",
    "for idx, imgFile in enumerate(list_afterSort):\n",
    "    img = img_src + imgFile\n",
    "    print img\n",
    "    im = caffe.io.load_image(img)  # 加载图片\n",
    "    im = im /255\n",
    "    net.blobs['data'].data[...][idx] = transformer.preprocess('data', im)  # 执行上面设置的图片预处理操作，并将图片载入到blob中\n",
    "out = net.forward()\n",
    "np.sum(np.square(out['prob'][1]-out['prob'][0]))"
   ]
  },
  {
   "cell_type": "code",
   "execution_count": null,
   "metadata": {
    "collapsed": true
   },
   "outputs": [],
   "source": []
  }
 ],
 "metadata": {
  "kernelspec": {
   "display_name": "Python 2",
   "language": "python",
   "name": "python2"
  }
 },
 "nbformat": 4,
 "nbformat_minor": 2
}
