{
 "cells": [
  {
   "cell_type": "code",
   "execution_count": 1,
   "metadata": {
    "collapsed": true
   },
   "outputs": [],
   "source": [
    "import os\n",
    "import random\n",
    "import numpy as np"
   ]
  },
  {
   "cell_type": "code",
   "execution_count": 2,
   "metadata": {
    "collapsed": true
   },
   "outputs": [],
   "source": [
    "#正样本制作\n",
    "os.chdir('D:/VOC_HY/cjDATA/new_data/train/')"
   ]
  },
  {
   "cell_type": "code",
   "execution_count": 16,
   "metadata": {},
   "outputs": [],
   "source": [
    "#普通正样本构造\n",
    "os.chdir('D:/VOC_HY/cjDATA/new_data/val/')\n",
    "file_src = 'D:/VOC_HY/cjDATA/new_data/val/'\n",
    "fileList = os.listdir('./')\n",
    "imageList = []\n",
    "for fileName in fileList:\n",
    "    os.chdir(file_src + fileName)\n",
    "    imageList = os.listdir('./')\n",
    "    with open('D:/VOC_HY/cjDATA/train_val_dataset_48scenes_171213/val.txt','a') as f:\n",
    "        for i in range(len(imageList)-1):\n",
    "            f.write(imageList[i]+' '+imageList[i+1]+'\\n')\n",
    "        f.close()\n",
    "    os.chdir('D:/VOC_HY/cjDATA/new_data/')   "
   ]
  },
  {
   "cell_type": "code",
   "execution_count": 4,
   "metadata": {},
   "outputs": [],
   "source": [
    "#s30_multi的场景正样本构造\n",
    "imageList = []\n",
    "os.chdir('D:/VOC_HY/cjDATA/new_data/s30_multi')\n",
    "imageList = os.listdir('./')\n",
    "with open('D:/VOC_HY/cjDATA/train_val_dataset_48scenes_171213/train.txt','a') as f:\n",
    "    for i in range(len(imageList)-1):\n",
    "        if(i%2==0):\n",
    "            f.write(imageList[i]+' '+imageList[i+1]+'\\n')\n",
    "    f.close()    "
   ]
  },
  {
   "cell_type": "code",
   "execution_count": 17,
   "metadata": {
    "collapsed": true
   },
   "outputs": [],
   "source": [
    "#场景数据的排列组合构造负样本\n",
    "os.chdir('D:/VOC_HY/cjDATA/new_data/val/')\n",
    "file_src = 'D:/VOC_HY/cjDATA/new_data/val/'\n",
    "fileList = os.listdir(file_src)\n",
    "for i in range(len(fileList)):\n",
    "    imgFirst = os.listdir(file_src+fileList[i])\n",
    "    for fileSecond in fileList[i+1:]:\n",
    "        imgSecond = os.listdir(file_src+fileSecond)\n",
    "        with open('D:/VOC_HY/cjDATA/train_val_dataset_48scenes_171213/val.txt','a') as f:\n",
    "            for j in range(2):\n",
    "                f.write(random.choice(imgFirst)+' '+random.choice(imgSecond)+'\\n')\n",
    "f.close()\n",
    "                \n",
    "        "
   ]
  },
  {
   "cell_type": "code",
   "execution_count": 18,
   "metadata": {},
   "outputs": [
    {
     "ename": "IndexError",
     "evalue": "list index out of range",
     "output_type": "error",
     "traceback": [
      "\u001b[1;31m---------------------------------------------------------------------------\u001b[0m",
      "\u001b[1;31mIndexError\u001b[0m                                Traceback (most recent call last)",
      "\u001b[1;32m<ipython-input-18-e000f6c0068d>\u001b[0m in \u001b[0;36m<module>\u001b[1;34m()\u001b[0m\n\u001b[0;32m      8\u001b[0m     \u001b[1;32mwith\u001b[0m \u001b[0mopen\u001b[0m\u001b[1;33m(\u001b[0m\u001b[1;34m'D:/VOC_HY/cjDATA/train_val_dataset_48scenes_171213/val.txt'\u001b[0m\u001b[1;33m,\u001b[0m\u001b[1;34m'a'\u001b[0m\u001b[1;33m)\u001b[0m \u001b[1;32mas\u001b[0m \u001b[0mf\u001b[0m\u001b[1;33m:\u001b[0m\u001b[1;33m\u001b[0m\u001b[0m\n\u001b[0;32m      9\u001b[0m         \u001b[1;32mfor\u001b[0m \u001b[0mi\u001b[0m \u001b[1;32min\u001b[0m \u001b[0mrange\u001b[0m\u001b[1;33m(\u001b[0m\u001b[1;36m2\u001b[0m\u001b[1;33m)\u001b[0m\u001b[1;33m:\u001b[0m\u001b[1;31m#测试和训练不一样\u001b[0m\u001b[1;33m\u001b[0m\u001b[0m\n\u001b[1;32m---> 10\u001b[1;33m             \u001b[0mf\u001b[0m\u001b[1;33m.\u001b[0m\u001b[0mwrite\u001b[0m\u001b[1;33m(\u001b[0m\u001b[0mimgSn\u001b[0m\u001b[1;33m+\u001b[0m\u001b[1;34m' '\u001b[0m\u001b[1;33m+\u001b[0m\u001b[0mlist_fileS5\u001b[0m\u001b[1;33m[\u001b[0m\u001b[0mi\u001b[0m\u001b[1;33m+\u001b[0m\u001b[0mj\u001b[0m\u001b[1;33m]\u001b[0m\u001b[1;33m+\u001b[0m\u001b[1;34m'\\n'\u001b[0m\u001b[1;33m)\u001b[0m\u001b[1;33m\u001b[0m\u001b[0m\n\u001b[0m\u001b[0;32m     11\u001b[0m         \u001b[0mj\u001b[0m \u001b[1;33m=\u001b[0m \u001b[0mj\u001b[0m \u001b[1;33m+\u001b[0m \u001b[0mi\u001b[0m \u001b[1;33m+\u001b[0m \u001b[1;36m1\u001b[0m\u001b[1;33m\u001b[0m\u001b[0m\n\u001b[0;32m     12\u001b[0m \u001b[0mf\u001b[0m\u001b[1;33m.\u001b[0m\u001b[0mclose\u001b[0m\u001b[1;33m(\u001b[0m\u001b[1;33m)\u001b[0m\u001b[1;33m\u001b[0m\u001b[0m\n",
      "\u001b[1;31mIndexError\u001b[0m: list index out of range"
     ]
    }
   ],
   "source": [
    "\n",
    "file_sn2 = 'D:\\VOC_HY/cjDATA/new_data/sn2/'\n",
    "file_s5 = 'D:/VOC_HY/cjDATA/new_data/val/s5/'\n",
    "list_fileSn2 = os.listdir(file_sn2)\n",
    "list_fileS5 = os.listdir(file_s5)\n",
    "j = 0\n",
    "for imgSn in list_fileSn2:\n",
    "    with open('D:/VOC_HY/cjDATA/train_val_dataset_48scenes_171213/val.txt','a') as f:\n",
    "        for i in range(2):#测试和训练不一样\n",
    "            f.write(imgSn+' '+list_fileS5[i+j]+'\\n')\n",
    "        j = j + i + 1\n",
    "f.close()\n",
    "    \n",
    "    "
   ]
  },
  {
   "cell_type": "code",
   "execution_count": 2,
   "metadata": {
    "collapsed": true
   },
   "outputs": [],
   "source": [
    "import os\n",
    "import numpy as np"
   ]
  },
  {
   "cell_type": "code",
   "execution_count": null,
   "metadata": {
    "collapsed": true
   },
   "outputs": [],
   "source": []
  }
 ],
 "metadata": {
  "kernelspec": {
   "display_name": "Python 3",
   "language": "python",
   "name": "python3"
  },
  "language_info": {
   "codemirror_mode": {
    "name": "ipython",
    "version": 3
   },
   "file_extension": ".py",
   "mimetype": "text/x-python",
   "name": "python",
   "nbconvert_exporter": "python",
   "pygments_lexer": "ipython3",
   "version": "3.6.2"
  }
 },
 "nbformat": 4,
 "nbformat_minor": 2
}
