{
 "cells": [
  {
   "cell_type": "code",
   "execution_count": 1,
   "metadata": {},
   "outputs": [
    {
     "name": "stdout",
     "output_type": "stream",
     "text": [
      "(547L, 10L)\n"
     ]
    }
   ],
   "source": [
    "import matplotlib.pyplot as plt\n",
    "import os\n",
    "import caffe\n",
    "import numpy as np\n",
    "\n",
    "root='D:\\VOC_HY\\scene_data/'   #根目录\n",
    "deploy=root + 'mnist_siamese.prototxt'    #deploy文件\n",
    "caffe_model=root + '_iter_5000.caffemodel'   #训练好的 caffemodel\n",
    "net = caffe.Net(deploy,caffe_model,caffe.TEST)   #加载model和network\n",
    "\n",
    "\n",
    "#图片预处理设置\n",
    "transformer = caffe.io.Transformer({'data': net.blobs['data'].data.shape})  #设定图片的shape格式(1,3,28,28)\n",
    "transformer.set_transpose('data', (2,0,1))    #改变维度的顺序，由原始图片(28,28,3)变为(3,28,28)\n",
    "#transformer.set_mean('data', np.load(mean_file).mean(1).mean(1))    #减去均值，前面训练模型时没有减均值，这儿就不用\n",
    "transformer.set_raw_scale('data', 1)    # 缩放到【0，255】之间\n",
    "transformer.set_channel_swap('data', (2,1,0))   #交换通道，将图片由RGB变为BGR\n",
    "\n",
    "img_src = root + 'scene_all'\n",
    "new = np.zeros((1,10))\n",
    "for file in os.listdir(img_src):\n",
    "    img = root + 'scene_all/' + file\n",
    "    im = caffe.io.load_image(img)  # 加载图片\n",
    "    net.blobs['data'].data[...] = transformer.preprocess('data', im)  # 执行上面设置的图片预处理操作，并将图片载入到blob中\n",
    "    out = net.forward()\n",
    "    new = np.vstack((new, out['feat']))\n",
    "\n",
    "print new.shape\n",
    "list = np.zeros((546,10))\n",
    "for i in range(546):\n",
    "    list[i] = 1\n"
   ]
  },
  {
   "cell_type": "code",
   "execution_count": 3,
   "metadata": {
    "collapsed": true
   },
   "outputs": [],
   "source": [
    "new = new[1:,:]"
   ]
  },
  {
   "cell_type": "code",
   "execution_count": 5,
   "metadata": {},
   "outputs": [
    {
     "data": {
      "text/plain": [
       "(546L, 10L)"
      ]
     },
     "execution_count": 5,
     "metadata": {},
     "output_type": "execute_result"
    }
   ],
   "source": [
    "new.shape"
   ]
  },
  {
   "cell_type": "code",
   "execution_count": 6,
   "metadata": {
    "collapsed": true
   },
   "outputs": [],
   "source": [
    "labels = np.zeros((546,))\n",
    "for i in range(304):\n",
    "    labels[i]=1\n",
    "labels[304:]=2\n",
    "for j in range(8):\n",
    "    labels[-j-1] = j+3"
   ]
  },
  {
   "cell_type": "code",
   "execution_count": 23,
   "metadata": {},
   "outputs": [
    {
     "data": {
      "text/plain": [
       "(546L,)"
      ]
     },
     "execution_count": 23,
     "metadata": {},
     "output_type": "execute_result"
    }
   ],
   "source": [
    "labels.shape"
   ]
  },
  {
   "cell_type": "code",
   "execution_count": 35,
   "metadata": {},
   "outputs": [
    {
     "data": {
      "text/plain": [
       "array([[ 0.07223703, -0.35720566, -0.36958313, ...,  0.60474312,\n",
       "         0.73621774,  0.07962424],\n",
       "       [ 0.07717043, -0.35842657, -0.36671683, ...,  0.60429114,\n",
       "         0.74117762,  0.07836101],\n",
       "       [ 0.07258579, -0.3535853 , -0.37090629, ...,  0.60595512,\n",
       "         0.74975836,  0.07490323],\n",
       "       ..., \n",
       "       [ 0.07786483, -0.34581518, -0.36712036, ...,  0.59333563,\n",
       "         0.73145628,  0.08006452],\n",
       "       [ 0.07102302, -0.3481527 , -0.36585361, ...,  0.60032636,\n",
       "         0.73394084,  0.08023559],\n",
       "       [ 0.07566457, -0.35513625, -0.36727002, ...,  0.60616559,\n",
       "         0.73877573,  0.07866416]])"
      ]
     },
     "execution_count": 35,
     "metadata": {},
     "output_type": "execute_result"
    }
   ],
   "source": [
    "feat = new\n",
    "feat[labels==1]"
   ]
  },
  {
   "cell_type": "code",
   "execution_count": 36,
   "metadata": {},
   "outputs": [
    {
     "ename": "IndexError",
     "evalue": "boolean index did not match indexed array along dimension 0; dimension is 1 but corresponding boolean dimension is 546",
     "output_type": "error",
     "traceback": [
      "\u001b[1;31m---------------------------------------------------------------------------\u001b[0m",
      "\u001b[1;31mIndexError\u001b[0m                                Traceback (most recent call last)",
      "\u001b[1;32m<ipython-input-36-1aa09d1ddd25>\u001b[0m in \u001b[0;36m<module>\u001b[1;34m()\u001b[0m\n\u001b[0;32m     95\u001b[0m \u001b[1;33m\u001b[0m\u001b[0m\n\u001b[0;32m     96\u001b[0m \u001b[1;31m# print generate_accuracy_map(features=feat, labels=labels, threshold=1.0)\u001b[0m\u001b[1;33m\u001b[0m\u001b[1;33m\u001b[0m\u001b[0m\n\u001b[1;32m---> 97\u001b[1;33m \u001b[0mplot_accuracy_map\u001b[0m\u001b[1;33m(\u001b[0m\u001b[0mfeat\u001b[0m\u001b[1;33m,\u001b[0m \u001b[0mlabels\u001b[0m\u001b[1;33m)\u001b[0m\u001b[1;33m\u001b[0m\u001b[0m\n\u001b[0m",
      "\u001b[1;32m<ipython-input-36-1aa09d1ddd25>\u001b[0m in \u001b[0;36mplot_accuracy_map\u001b[1;34m(features, labels, totals)\u001b[0m\n\u001b[0;32m     58\u001b[0m     \u001b[0my_values\u001b[0m \u001b[1;33m=\u001b[0m \u001b[1;33m[\u001b[0m\u001b[1;33m]\u001b[0m\u001b[1;33m\u001b[0m\u001b[0m\n\u001b[0;32m     59\u001b[0m     \u001b[1;32mfor\u001b[0m \u001b[0mx\u001b[0m \u001b[1;32min\u001b[0m \u001b[0mx_vaules\u001b[0m\u001b[1;33m:\u001b[0m\u001b[1;33m\u001b[0m\u001b[0m\n\u001b[1;32m---> 60\u001b[1;33m         \u001b[0my_values\u001b[0m\u001b[1;33m.\u001b[0m\u001b[0mappend\u001b[0m\u001b[1;33m(\u001b[0m\u001b[0mgenerate_accuracy_map\u001b[0m\u001b[1;33m(\u001b[0m\u001b[0mfeatures\u001b[0m\u001b[1;33m=\u001b[0m\u001b[0mfeatures\u001b[0m\u001b[1;33m,\u001b[0m \u001b[0mlabels\u001b[0m\u001b[1;33m=\u001b[0m\u001b[0mlabels\u001b[0m\u001b[1;33m,\u001b[0m \u001b[0mthreshold\u001b[0m\u001b[1;33m=\u001b[0m\u001b[0mx\u001b[0m\u001b[1;33m)\u001b[0m\u001b[1;33m)\u001b[0m\u001b[1;33m\u001b[0m\u001b[0m\n\u001b[0m\u001b[0;32m     61\u001b[0m     \u001b[0mmax_index\u001b[0m \u001b[1;33m=\u001b[0m \u001b[0mnp\u001b[0m\u001b[1;33m.\u001b[0m\u001b[0margmax\u001b[0m\u001b[1;33m(\u001b[0m\u001b[0my_values\u001b[0m\u001b[1;33m)\u001b[0m\u001b[1;33m\u001b[0m\u001b[0m\n\u001b[0;32m     62\u001b[0m     \u001b[1;32mprint\u001b[0m \u001b[0mmax_index\u001b[0m\u001b[1;33m\u001b[0m\u001b[0m\n",
      "\u001b[1;32m<ipython-input-36-1aa09d1ddd25>\u001b[0m in \u001b[0;36mgenerate_accuracy_map\u001b[1;34m(features, labels, totals, threshold)\u001b[0m\n\u001b[0;32m     23\u001b[0m     \u001b[0mdiff_features\u001b[0m \u001b[1;33m=\u001b[0m \u001b[1;33m[\u001b[0m\u001b[1;33m]\u001b[0m\u001b[1;33m\u001b[0m\u001b[0m\n\u001b[0;32m     24\u001b[0m     \u001b[1;32mfor\u001b[0m \u001b[0mi\u001b[0m \u001b[1;32min\u001b[0m \u001b[0mrange\u001b[0m\u001b[1;33m(\u001b[0m\u001b[0mlength\u001b[0m\u001b[1;33m)\u001b[0m\u001b[1;33m:\u001b[0m\u001b[1;33m\u001b[0m\u001b[0m\n\u001b[1;32m---> 25\u001b[1;33m         \u001b[0mith_features\u001b[0m \u001b[1;33m=\u001b[0m \u001b[0mfeatures\u001b[0m\u001b[1;33m[\u001b[0m\u001b[0mlabels\u001b[0m\u001b[1;33m==\u001b[0m\u001b[0mi\u001b[0m\u001b[1;33m]\u001b[0m\u001b[1;33m\u001b[0m\u001b[0m\n\u001b[0m\u001b[0;32m     26\u001b[0m         \u001b[0mdiff_features\u001b[0m\u001b[1;33m.\u001b[0m\u001b[0mappend\u001b[0m\u001b[1;33m(\u001b[0m\u001b[0mith_features\u001b[0m\u001b[1;33m)\u001b[0m\u001b[1;33m\u001b[0m\u001b[0m\n\u001b[0;32m     27\u001b[0m         \u001b[1;31m# 每个样本平均取\u001b[0m\u001b[1;33m\u001b[0m\u001b[1;33m\u001b[0m\u001b[0m\n",
      "\u001b[1;31mIndexError\u001b[0m: boolean index did not match indexed array along dimension 0; dimension is 1 but corresponding boolean dimension is 546"
     ]
    }
   ],
   "source": [
    "# -*- coding: utf-8 -*-\n",
    "# Make sure that caffe is on the python path:\n",
    "# caffe_root = '/Users/HZzone/caffe'  # this file is expected to be in {caffe_root}/examples/siamese\n",
    "import random\n",
    "import matplotlib.pyplot as plt\n",
    "import pylab\n",
    "\n",
    "def cosine_distnace(v1, v2):\n",
    "    cos = np.dot(v1, v2)/(np.linalg.norm(v1)*np.linalg.norm(v2))\n",
    "    return cos\n",
    "\n",
    "def euclidean_distance(v1, v2):\n",
    "    euc = np.sqrt(np.sum(np.square(v1 - v2)))\n",
    "    return euc\n",
    "\n",
    "# 这个函数在生成测试集的时候可能会出现重复的，所以最好还是换成set而不是用tuple\n",
    "def generate_accuracy_map(features, labels, totals=6000, threshold=0):\n",
    "    # the number of _diff and _same = totals/2\n",
    "    _diff = []\n",
    "    _same = []\n",
    "    unique_labels = set(labels)\n",
    "    length = len(unique_labels)\n",
    "    diff_features = []\n",
    "    for i in range(length):\n",
    "        ith_features = features[labels==i]\n",
    "        diff_features.append(ith_features)\n",
    "        # 每个样本平均取\n",
    "        for j in range(totals/(2*length)):\n",
    "            x = random.randint(0, len(ith_features)-1)\n",
    "            y = random.randint(0, len(ith_features)-1)\n",
    "            first = ith_features[x]\n",
    "            second = ith_features[y]\n",
    "            # 这是所有相同的\n",
    "            _same.append(cosine_distnace(first, second))\n",
    "    # 这是不相同\n",
    "    # 随机抽，不会抽在同一个类中\n",
    "    for j in range(totals/2):\n",
    "        while True:\n",
    "            x = random.randint(0, length-1)\n",
    "            y = random.randint(0, length-1)\n",
    "            if x != y:\n",
    "                break\n",
    "        first = random.randint(0, len(diff_features[x])-1)\n",
    "        second = random.randint(0, len(diff_features[y])-1)\n",
    "        _diff.append(cosine_distnace(diff_features[x][first], diff_features[y][second]))\n",
    "    correct = 0\n",
    "    for elememt in _diff:\n",
    "        if elememt < threshold:\n",
    "            correct = correct + 1\n",
    "    for elememt in _same:\n",
    "        if elememt >= threshold:\n",
    "            correct = correct + 1\n",
    "    return float(correct)/totals\n",
    "\n",
    "\n",
    "def plot_accuracy_map(features, labels, totals=6000):\n",
    "    x_vaules = pylab.arange(-1.0, 1.01, 0.01)\n",
    "    y_values = []\n",
    "    for x in x_vaules:\n",
    "        y_values.append(generate_accuracy_map(features=features, labels=labels, threshold=x))\n",
    "    max_index = np.argmax(y_values)\n",
    "    print max_index\n",
    "    plt.title(\"threshold-accuracy curve\")\n",
    "    plt.xlabel(\"threshold\")\n",
    "    plt.ylabel(\"accuracy\")\n",
    "    plt.plot(x_vaules, y_values)\n",
    "    plt.plot(x_vaules[max_index], y_values[max_index], '.', label=\"(%s, %s)\"%(x_vaules[max_index], y_values[max_index]))\n",
    "    plt.title(\"Threshold-Accuracy\")\n",
    "    plt.xlabel(\"threshold\")\n",
    "    plt.ylabel(\"accuracy\")\n",
    "    plt.plot(x_vaules, y_values)\n",
    "    plt.plot(x_vaules[max_index], y_values[max_index], '*', color='red', label=\"(%s, %s)\"%(x_vaules[max_index], y_values[max_index]))\n",
    "    plt.legend()\n",
    "    plt.show()\n",
    "\n",
    "\n",
    "# test dataset output n*(x, y)\n",
    "feat = out['feat']\n",
    "# feat = out['ip2']\n",
    "\n",
    "\n",
    "# # 1 of test dataset\n",
    "# one = feat[labels==1]\n",
    "# # calculate euclidean distance\n",
    "# acc = euclidean_distance(one[0], one[1])\n",
    "# print acc\n",
    "\n",
    "# # for each layer, show the output shape\n",
    "# for layer_name, blob in net.blobs.iteritems():\n",
    "#     print layer_name + '\\t' + str(blob.data.shape)\n",
    "\n",
    "# cos = cosine_distnace(one[0], one[1])\n",
    "# print cos\n",
    "\n",
    "\n",
    "# print generate_accuracy_map(features=feat, labels=labels, threshold=1.0)\n",
    "plot_accuracy_map(feat, labels)"
   ]
  },
  {
   "cell_type": "code",
   "execution_count": null,
   "metadata": {
    "collapsed": true
   },
   "outputs": [],
   "source": []
  },
  {
   "cell_type": "code",
   "execution_count": null,
   "metadata": {
    "collapsed": true
   },
   "outputs": [],
   "source": []
  },
  {
   "cell_type": "code",
   "execution_count": null,
   "metadata": {
    "collapsed": true
   },
   "outputs": [],
   "source": []
  },
  {
   "cell_type": "code",
   "execution_count": null,
   "metadata": {
    "collapsed": true
   },
   "outputs": [],
   "source": []
  },
  {
   "cell_type": "code",
   "execution_count": null,
   "metadata": {
    "collapsed": true
   },
   "outputs": [],
   "source": []
  },
  {
   "cell_type": "code",
   "execution_count": null,
   "metadata": {
    "collapsed": true
   },
   "outputs": [],
   "source": []
  },
  {
   "cell_type": "code",
   "execution_count": 20,
   "metadata": {
    "collapsed": true
   },
   "outputs": [],
   "source": [
    "import caffe\n",
    "import numpy as np\n",
    "import matplotlib.pyplot as plt\n",
    "%matplotlib inline\n",
    "import os, sys"
   ]
  },
  {
   "cell_type": "code",
   "execution_count": null,
   "metadata": {
    "collapsed": true
   },
   "outputs": [],
   "source": [
    "# -*- coding: utf-8 -*-\n",
    "import matplotlib.pyplot as plt\n",
    "import os\n",
    "os.environ['GLOG_minloglevel'] = '2'\n",
    "import caffe\n",
    "import numpy as np\n",
    "import pylab\n",
    "import random\n",
    "import cv2\n",
    "\n",
    "root='D:\\VOC_HY/cjDATA/new_data/'   #根目录\n",
    "deploy=root + 'caffe_model/Squeeze_SiameseNet_deploy.prototxt'    #deploy文件\n",
    "caffe_model=root + 'parameters_saved/train_iter_8000.caffemodel'   #训练好的 caffemodel\n",
    "net = caffe.Net(deploy,caffe_model,caffe.TEST)   #加载model和network\n",
    "#图片预处理设置\n",
    "transformer = caffe.io.Transformer({'data': net.blobs['data'].data.shape})  #设定图片的shape格式(1,3,227,227)\n",
    "transformer.set_transpose('data', (2,0,1))    #改变维度的顺序，由原始图片(227,227,3)变为(3,227,227)\n",
    "transformer.set_raw_scale('data', 225)    # 缩放到【0，255】之间\n",
    "transformer.set_channel_swap('data', (2,1,0))   #交换通道，将图片由RGB变为BGR\n"
   ]
  },
  {
   "cell_type": "code",
   "execution_count": 12,
   "metadata": {},
   "outputs": [
    {
     "name": "stdout",
     "output_type": "stream",
     "text": [
      "(2L, 16L)\n"
     ]
    }
   ],
   "source": [
    "img_src = 'D:/VOC_HY/image_test/'\n",
    "fileList = os.listdir(img_src)\n",
    "for i,imgFile in enumerate(fileList):\n",
    "    im = caffe.io.load_image(img_src+imgFile)\n",
    "    net.blobs['data'].data[...][i] = transformer.preprocess('data',im)\n",
    "\n",
    "out = net.forward()\n",
    "feat = out['feat']\n",
    "print(feat.shape)\n",
    "\n"
   ]
  },
  {
   "cell_type": "code",
   "execution_count": 13,
   "metadata": {},
   "outputs": [
    {
     "data": {
      "text/plain": [
       "array([[ 0.31301457,  0.31562099, -0.01783402,  0.3909764 ,  0.28184199,\n",
       "         0.16061467, -0.14296205, -0.11464181,  0.0461424 , -0.04814709,\n",
       "        -0.08558377, -0.15987222, -0.14783481, -0.1468157 ,  0.16480403,\n",
       "         0.1478104 ],\n",
       "       [ 0.29592791,  0.29308659, -0.02701285,  0.35181621,  0.24988978,\n",
       "         0.16312653, -0.138614  , -0.1028635 ,  0.04716874, -0.04454419,\n",
       "        -0.06516705, -0.14282413, -0.12490353, -0.14420225,  0.1567602 ,\n",
       "         0.14016213]], dtype=float32)"
      ]
     },
     "execution_count": 13,
     "metadata": {},
     "output_type": "execute_result"
    }
   ],
   "source": [
    "feat"
   ]
  },
  {
   "cell_type": "code",
   "execution_count": 14,
   "metadata": {},
   "outputs": [
    {
     "data": {
      "text/plain": [
       "0.49797995015978813"
      ]
     },
     "execution_count": 14,
     "metadata": {},
     "output_type": "execute_result"
    }
   ],
   "source": [
    "np.sum(np.square(feat[0] - feat[1]))*100"
   ]
  },
  {
   "cell_type": "code",
   "execution_count": 15,
   "metadata": {},
   "outputs": [
    {
     "data": {
      "text/plain": [
       "<Container object of 16 artists>"
      ]
     },
     "execution_count": 15,
     "metadata": {},
     "output_type": "execute_result"
    },
    {
     "data": {
      "image/png": "[encoded data removed]",
      "text/plain": [
       "<matplotlib.figure.Figure at 0x1ebf52e8>"
      ]
     },
     "metadata": {},
     "output_type": "display_data"
    }
   ],
   "source": [
    "X = np.arange(16)+1\n",
    "Y1 = feat[0]\n",
    "Y2 = feat[1]\n",
    "plt.bar(X,Y2,alpha=0.4)\n",
    "plt.bar(X,Y1,alpha=0.6)\n"
   ]
  },
  {
   "cell_type": "code",
   "execution_count": 16,
   "metadata": {},
   "outputs": [
    {
     "data": {
      "text/plain": [
       "[('data', (2L, 3L, 227L, 227L)),\n",
       " ('conv1', (2L, 96L, 111L, 111L)),\n",
       " ('pool1', (2L, 96L, 55L, 55L)),\n",
       " ('fire2/squeeze1x1', (2L, 16L, 55L, 55L)),\n",
       " ('fire2/squeeze1x1_fire2/relu_squeeze1x1_0_split_0', (2L, 16L, 55L, 55L)),\n",
       " ('fire2/squeeze1x1_fire2/relu_squeeze1x1_0_split_1', (2L, 16L, 55L, 55L)),\n",
       " ('fire2/expand1x1', (2L, 64L, 55L, 55L)),\n",
       " ('fire2/expand3x3', (2L, 64L, 55L, 55L)),\n",
       " ('fire2/concat', (2L, 128L, 55L, 55L)),\n",
       " ('fire3/squeeze1x1', (2L, 16L, 55L, 55L)),\n",
       " ('fire3/squeeze1x1_fire3/relu_squeeze1x1_0_split_0', (2L, 16L, 55L, 55L)),\n",
       " ('fire3/squeeze1x1_fire3/relu_squeeze1x1_0_split_1', (2L, 16L, 55L, 55L)),\n",
       " ('fire3/expand1x1', (2L, 64L, 55L, 55L)),\n",
       " ('fire3/expand3x3', (2L, 64L, 55L, 55L)),\n",
       " ('fire3/concat', (2L, 128L, 55L, 55L)),\n",
       " ('fire4/squeeze1x1', (2L, 32L, 55L, 55L)),\n",
       " ('fire4/squeeze1x1_fire4/relu_squeeze1x1_0_split_0', (2L, 32L, 55L, 55L)),\n",
       " ('fire4/squeeze1x1_fire4/relu_squeeze1x1_0_split_1', (2L, 32L, 55L, 55L)),\n",
       " ('fire4/expand1x1', (2L, 128L, 55L, 55L)),\n",
       " ('fire4/expand3x3', (2L, 128L, 55L, 55L)),\n",
       " ('fire4/concat', (2L, 256L, 55L, 55L)),\n",
       " ('pool4', (2L, 256L, 27L, 27L)),\n",
       " ('fire5/squeeze1x1', (2L, 32L, 27L, 27L)),\n",
       " ('fire5/squeeze1x1_fire5/relu_squeeze1x1_0_split_0', (2L, 32L, 27L, 27L)),\n",
       " ('fire5/squeeze1x1_fire5/relu_squeeze1x1_0_split_1', (2L, 32L, 27L, 27L)),\n",
       " ('fire5/expand1x1', (2L, 128L, 27L, 27L)),\n",
       " ('fire5/expand3x3', (2L, 128L, 27L, 27L)),\n",
       " ('fire5/concat', (2L, 256L, 27L, 27L)),\n",
       " ('fire6/squeeze1x1', (2L, 48L, 27L, 27L)),\n",
       " ('fire6/squeeze1x1_fire6/relu_squeeze1x1_0_split_0', (2L, 48L, 27L, 27L)),\n",
       " ('fire6/squeeze1x1_fire6/relu_squeeze1x1_0_split_1', (2L, 48L, 27L, 27L)),\n",
       " ('fire6/expand1x1', (2L, 192L, 27L, 27L)),\n",
       " ('fire6/expand3x3', (2L, 192L, 27L, 27L)),\n",
       " ('fire6/concat', (2L, 384L, 27L, 27L)),\n",
       " ('fire7/squeeze1x1', (2L, 48L, 27L, 27L)),\n",
       " ('fire7/squeeze1x1_fire7/relu_squeeze1x1_0_split_0', (2L, 48L, 27L, 27L)),\n",
       " ('fire7/squeeze1x1_fire7/relu_squeeze1x1_0_split_1', (2L, 48L, 27L, 27L)),\n",
       " ('fire7/expand1x1', (2L, 192L, 27L, 27L)),\n",
       " ('fire7/expand3x3', (2L, 192L, 27L, 27L)),\n",
       " ('fire7/concat', (2L, 384L, 27L, 27L)),\n",
       " ('fire8/squeeze1x1', (2L, 64L, 27L, 27L)),\n",
       " ('fire8/squeeze1x1_fire8/relu_squeeze1x1_0_split_0', (2L, 64L, 27L, 27L)),\n",
       " ('fire8/squeeze1x1_fire8/relu_squeeze1x1_0_split_1', (2L, 64L, 27L, 27L)),\n",
       " ('fire8/expand1x1', (2L, 256L, 27L, 27L)),\n",
       " ('fire8/expand3x3', (2L, 256L, 27L, 27L)),\n",
       " ('fire8/concat', (2L, 512L, 27L, 27L)),\n",
       " ('pool8', (2L, 512L, 13L, 13L)),\n",
       " ('fire9/squeeze1x1', (2L, 64L, 13L, 13L)),\n",
       " ('fire9/squeeze1x1_fire9/relu_squeeze1x1_0_split_0', (2L, 64L, 13L, 13L)),\n",
       " ('fire9/squeeze1x1_fire9/relu_squeeze1x1_0_split_1', (2L, 64L, 13L, 13L)),\n",
       " ('fire9/expand1x1', (2L, 256L, 13L, 13L)),\n",
       " ('fire9/expand3x3', (2L, 256L, 13L, 13L)),\n",
       " ('fire9/concat', (2L, 512L, 13L, 13L)),\n",
       " ('conv10', (2L, 1000L, 15L, 15L)),\n",
       " ('feat', (2L, 16L))]"
      ]
     },
     "execution_count": 16,
     "metadata": {},
     "output_type": "execute_result"
    }
   ],
   "source": [
    "[(k, v.data.shape) for k, v in net.blobs.items()]"
   ]
  },
  {
   "cell_type": "code",
   "execution_count": 17,
   "metadata": {},
   "outputs": [
    {
     "data": {
      "text/plain": [
       "[('conv1', (96L, 3L, 7L, 7L)),\n",
       " ('fire2/squeeze1x1', (16L, 96L, 1L, 1L)),\n",
       " ('fire2/expand1x1', (64L, 16L, 1L, 1L)),\n",
       " ('fire2/expand3x3', (64L, 16L, 3L, 3L)),\n",
       " ('fire3/squeeze1x1', (16L, 128L, 1L, 1L)),\n",
       " ('fire3/expand1x1', (64L, 16L, 1L, 1L)),\n",
       " ('fire3/expand3x3', (64L, 16L, 3L, 3L)),\n",
       " ('fire4/squeeze1x1', (32L, 128L, 1L, 1L)),\n",
       " ('fire4/expand1x1', (128L, 32L, 1L, 1L)),\n",
       " ('fire4/expand3x3', (128L, 32L, 3L, 3L)),\n",
       " ('fire5/squeeze1x1', (32L, 256L, 1L, 1L)),\n",
       " ('fire5/expand1x1', (128L, 32L, 1L, 1L)),\n",
       " ('fire5/expand3x3', (128L, 32L, 3L, 3L)),\n",
       " ('fire6/squeeze1x1', (48L, 256L, 1L, 1L)),\n",
       " ('fire6/expand1x1', (192L, 48L, 1L, 1L)),\n",
       " ('fire6/expand3x3', (192L, 48L, 3L, 3L)),\n",
       " ('fire7/squeeze1x1', (48L, 384L, 1L, 1L)),\n",
       " ('fire7/expand1x1', (192L, 48L, 1L, 1L)),\n",
       " ('fire7/expand3x3', (192L, 48L, 3L, 3L)),\n",
       " ('fire8/squeeze1x1', (64L, 384L, 1L, 1L)),\n",
       " ('fire8/expand1x1', (256L, 64L, 1L, 1L)),\n",
       " ('fire8/expand3x3', (256L, 64L, 3L, 3L)),\n",
       " ('fire9/squeeze1x1', (64L, 512L, 1L, 1L)),\n",
       " ('fire9/expand1x1', (256L, 64L, 1L, 1L)),\n",
       " ('fire9/expand3x3', (256L, 64L, 3L, 3L)),\n",
       " ('conv10', (1000L, 512L, 1L, 1L)),\n",
       " ('feat', (16L, 225000L))]"
      ]
     },
     "execution_count": 17,
     "metadata": {},
     "output_type": "execute_result"
    }
   ],
   "source": [
    "[(k, v[0].data.shape) for k, v in net.params.items()]"
   ]
  },
  {
   "cell_type": "code",
   "execution_count": 18,
   "metadata": {
    "collapsed": true
   },
   "outputs": [],
   "source": [
    "#　编写一个函数，用于显示各层数据\n",
    "def show_data(data, padsize=1, padval=0):\n",
    "    data -= data.min()\n",
    "    data /= data.max()\n",
    "    \n",
    "    # force the number of filters to be square\n",
    "    n = int(np.ceil(np.sqrt(data.shape[0])))\n",
    "    padding = ((0, n ** 2 - data.shape[0]), (0, padsize), (0, padsize)) + ((0, 0),) * (data.ndim - 3)\n",
    "    data = np.pad(data, padding, mode='constant', constant_values=(padval, padval))\n",
    "    \n",
    "    # tile the filters into an image\n",
    "    data = data.reshape((n, n) + data.shape[1:]).transpose((0, 2, 1, 3) + tuple(range(4, data.ndim + 1)))\n",
    "    data = data.reshape((n * data.shape[1], n * data.shape[3]) + data.shape[4:])\n",
    "    plt.figure()\n",
    "    plt.imshow(data,cmap='gray')\n",
    "    plt.axis('off')\n",
    "plt.rcParams['figure.figsize'] = (8, 8)\n",
    "plt.rcParams['image.interpolation'] = 'nearest'\n",
    "plt.rcParams['image.cmap'] = 'gray'\n",
    "\n"
   ]
  },
  {
   "cell_type": "code",
   "execution_count": 19,
   "metadata": {},
   "outputs": [
    {
     "data": {
      "image/png": "[encoded data removed]",
      "text/plain": [
       "<matplotlib.figure.Figure at 0x1ef0d278>"
      ]
     },
     "metadata": {},
     "output_type": "display_data"
    },
    {
     "data": {
      "image/png": "[encoded data removed]",
      "text/plain": [
       "<matplotlib.figure.Figure at 0x1ee6ec18>"
      ]
     },
     "metadata": {},
     "output_type": "display_data"
    }
   ],
   "source": [
    "show_data(net.blobs['fire9/squeeze1x1'].data[0])\n",
    "show_data(net.blobs['fire9/squeeze1x1'].data[1])"
   ]
  },
  {
   "cell_type": "code",
   "execution_count": null,
   "metadata": {
    "collapsed": true
   },
   "outputs": [],
   "source": []
  }
 ],
 "metadata": {
  "kernelspec": {
   "display_name": "Python 2",
   "language": "python",
   "name": "python2"
  },
  "language_info": {
   "codemirror_mode": {
    "name": "ipython",
    "version": 2
   },
   "file_extension": ".py",
   "mimetype": "text/x-python",
   "name": "python",
   "nbconvert_exporter": "python",
   "pygments_lexer": "ipython2",
   "version": "2.7.13"
  }
 },
 "nbformat": 4,
 "nbformat_minor": 2
}
